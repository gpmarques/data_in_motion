{
 "cells": [
  {
   "cell_type": "markdown",
   "metadata": {},
   "source": [
    "# Esse módulo foi criado para analisar os metadados dos arquivos de vídeos utilizados para treinar o modelo generativo e extrair informações que contribuam para decidir a arquitetura do algoritmo de aprendizado"
   ]
  },
  {
   "cell_type": "code",
   "execution_count": 2,
   "metadata": {},
   "outputs": [],
   "source": [
    "import skvideo.io\n",
    "import glob\n",
    "import matplotlib.pyplot as plt\n",
    "import pandas as pd\n",
    "import os\n",
    "import tensorflow as tf"
   ]
  },
  {
   "cell_type": "code",
   "execution_count": 3,
   "metadata": {},
   "outputs": [
    {
     "data": {
      "text/plain": [
       "615"
      ]
     },
     "execution_count": 3,
     "metadata": {},
     "output_type": "execute_result"
    }
   ],
   "source": [
    "# Pegando todos os paths dos vídeos\n",
    "fnames = tf.gfile.Glob(\"../../../../newvolume/teasers/*.mp4\")\n",
    "len(fnames)"
   ]
  },
  {
   "cell_type": "code",
   "execution_count": 4,
   "metadata": {},
   "outputs": [
    {
     "data": {
      "text/html": [
       "<div>\n",
       "<style scoped>\n",
       "    .dataframe tbody tr th:only-of-type {\n",
       "        vertical-align: middle;\n",
       "    }\n",
       "\n",
       "    .dataframe tbody tr th {\n",
       "        vertical-align: top;\n",
       "    }\n",
       "\n",
       "    .dataframe thead th {\n",
       "        text-align: right;\n",
       "    }\n",
       "</style>\n",
       "<table border=\"1\" class=\"dataframe\">\n",
       "  <thead>\n",
       "    <tr style=\"text-align: right;\">\n",
       "      <th></th>\n",
       "      <th>@width</th>\n",
       "      <th>@height</th>\n",
       "      <th>@duration</th>\n",
       "      <th>@avg_frame_rate</th>\n",
       "      <th>filename</th>\n",
       "    </tr>\n",
       "  </thead>\n",
       "  <tbody>\n",
       "    <tr>\n",
       "      <th>0</th>\n",
       "      <td>1920</td>\n",
       "      <td>1080</td>\n",
       "      <td>60.000000</td>\n",
       "      <td>30/1</td>\n",
       "      <td>../../../../newvolume/teasers/carro aluguel_30...</td>\n",
       "    </tr>\n",
       "    <tr>\n",
       "      <th>1</th>\n",
       "      <td>1080</td>\n",
       "      <td>1080</td>\n",
       "      <td>15.033333</td>\n",
       "      <td>30/1</td>\n",
       "      <td>../../../../newvolume/teasers/antonio bandeira...</td>\n",
       "    </tr>\n",
       "    <tr>\n",
       "      <th>2</th>\n",
       "      <td>1080</td>\n",
       "      <td>1920</td>\n",
       "      <td>15.000000</td>\n",
       "      <td>22/1</td>\n",
       "      <td>../../../../newvolume/teasers/easynvest_30_180...</td>\n",
       "    </tr>\n",
       "    <tr>\n",
       "      <th>3</th>\n",
       "      <td>1920</td>\n",
       "      <td>1080</td>\n",
       "      <td>30.030000</td>\n",
       "      <td>30000/1001</td>\n",
       "      <td>../../../../newvolume/teasers/v1_180209_Multis...</td>\n",
       "    </tr>\n",
       "    <tr>\n",
       "      <th>4</th>\n",
       "      <td>1080</td>\n",
       "      <td>1080</td>\n",
       "      <td>29.988292</td>\n",
       "      <td>24000/1001</td>\n",
       "      <td>../../../../newvolume/teasers/alfamen_30_18082...</td>\n",
       "    </tr>\n",
       "  </tbody>\n",
       "</table>\n",
       "</div>"
      ],
      "text/plain": [
       "  @width @height  @duration @avg_frame_rate  \\\n",
       "0   1920    1080  60.000000            30/1   \n",
       "1   1080    1080  15.033333            30/1   \n",
       "2   1080    1920  15.000000            22/1   \n",
       "3   1920    1080  30.030000      30000/1001   \n",
       "4   1080    1080  29.988292      24000/1001   \n",
       "\n",
       "                                            filename  \n",
       "0  ../../../../newvolume/teasers/carro aluguel_30...  \n",
       "1  ../../../../newvolume/teasers/antonio bandeira...  \n",
       "2  ../../../../newvolume/teasers/easynvest_30_180...  \n",
       "3  ../../../../newvolume/teasers/v1_180209_Multis...  \n",
       "4  ../../../../newvolume/teasers/alfamen_30_18082...  "
      ]
     },
     "execution_count": 4,
     "metadata": {},
     "output_type": "execute_result"
    }
   ],
   "source": [
    "from pprint import pprint\n",
    "# chaves que devem ser extraídas das informações de metadados\n",
    "keys = ['@width', '@height', '@duration', '@avg_frame_rate', 'filename']\n",
    "teasers_metadata = []\n",
    "\n",
    "for fname in fnames: # itera sobre a lista de paths dos vídeos\n",
    "    metadata = skvideo.io.ffprobe(fname) # extrai os metadados\n",
    "    if not 'video' in metadata: # se não houver metadados relacionados ao arquivo pula \n",
    "        continue\n",
    "    metadata['video']['filename'] = str(fname)\n",
    "    metadata = metadata['video']\n",
    "    teasers_metadata.append(metadata) # cria uma lista com os metadados de todos os arquivos\n",
    "\n",
    "# constroi um dataframe a partir da lista, com apenas as chaves desejadas\n",
    "df = pd.DataFrame(teasers_metadata, columns=keys)\n",
    "df.head()"
   ]
  },
  {
   "cell_type": "code",
   "execution_count": 5,
   "metadata": {},
   "outputs": [
    {
     "name": "stdout",
     "output_type": "stream",
     "text": [
      "<class 'pandas.core.frame.DataFrame'>\n",
      "RangeIndex: 527 entries, 0 to 526\n",
      "Data columns (total 5 columns):\n",
      "@width             527 non-null object\n",
      "@height            527 non-null object\n",
      "@duration          527 non-null object\n",
      "@avg_frame_rate    527 non-null object\n",
      "filename           527 non-null object\n",
      "dtypes: object(5)\n",
      "memory usage: 20.7+ KB\n"
     ]
    }
   ],
   "source": [
    "df.info()"
   ]
  },
  {
   "cell_type": "code",
   "execution_count": 5,
   "metadata": {},
   "outputs": [],
   "source": [
    "# discretiza as colunas da altura e comprimento\n",
    "df['@width'] = df['@width'].apply(lambda x: int(x))\n",
    "df['@height'] = df['@height'].apply(lambda x: int(x))"
   ]
  },
  {
   "cell_type": "code",
   "execution_count": 7,
   "metadata": {},
   "outputs": [
    {
     "data": {
      "text/plain": [
       "<matplotlib.axes._subplots.AxesSubplot at 0x7efdeda1fb00>"
      ]
     },
     "execution_count": 7,
     "metadata": {},
     "output_type": "execute_result"
    },
    {
     "data": {
      "image/png": "[encoded data removed]",
      "text/plain": [
       "<Figure size 432x288 with 1 Axes>"
      ]
     },
     "metadata": {},
     "output_type": "display_data"
    }
   ],
   "source": [
    "import math\n",
    "\n",
    "def transform_avg_frame_rate(f_rate):\n",
    "    \"\"\" \n",
    "    Método para transformar as taxas de frames que estão como strings no formato 30000/1001, por exemplo, para\n",
    "    um float\n",
    "    \n",
    "    Paramêtros\n",
    "    ----------\n",
    "    f_rate: string\n",
    "        A taxa média de frames\n",
    "    \n",
    "    Retorna\n",
    "    ---------\n",
    "    float\n",
    "        A taxa de frames como ponto flutuante\n",
    "    \"\"\"\n",
    "    try:\n",
    "        frate = f_rate.split(\"/\")\n",
    "        num, den = float(frate[0]), float(frate[1])\n",
    "        frate = num/den\n",
    "        return float(round(frate))\n",
    "    except:\n",
    "        return 0.0\n",
    "    \n",
    "# aplica o metodo acima sobre todas as taxas médias de frames\n",
    "df[\"@avg_frame_rate\"] = df[\"@avg_frame_rate\"].apply(transform_avg_frame_rate)\n",
    "\n",
    "# agrupa por taxa de frames e soma para ter o número de vídeos de cada valor de taxa de frames\n",
    "frame_rate_count = df.groupby([\"@avg_frame_rate\"]).size() \n",
    "frame_rate_count.plot.bar()"
   ]
  },
  {
   "cell_type": "code",
   "execution_count": 8,
   "metadata": {},
   "outputs": [
    {
     "data": {
      "text/plain": [
       "count      6.000000\n",
       "mean      87.833333\n",
       "std      119.920668\n",
       "min        3.000000\n",
       "25%       14.000000\n",
       "50%       36.000000\n",
       "75%      107.500000\n",
       "max      314.000000\n",
       "dtype: float64"
      ]
     },
     "execution_count": 8,
     "metadata": {},
     "output_type": "execute_result"
    }
   ],
   "source": [
    "frame_rate_count.describe()"
   ]
  },
  {
   "cell_type": "code",
   "execution_count": 9,
   "metadata": {},
   "outputs": [
    {
     "data": {
      "text/plain": [
       "@avg_frame_rate\n",
       "0.0       3\n",
       "22.0    130\n",
       "24.0     32\n",
       "25.0     40\n",
       "30.0    314\n",
       "60.0      8\n",
       "dtype: int64"
      ]
     },
     "execution_count": 9,
     "metadata": {},
     "output_type": "execute_result"
    }
   ],
   "source": [
    "frame_rate_count"
   ]
  },
  {
   "cell_type": "code",
   "execution_count": 9,
   "metadata": {},
   "outputs": [
    {
     "data": {
      "text/plain": [
       "<matplotlib.axes._subplots.AxesSubplot at 0x7f2aa688d588>"
      ]
     },
     "execution_count": 9,
     "metadata": {},
     "output_type": "execute_result"
    },
    {
     "data": {
      "image/png": "[encoded data removed]",
      "text/plain": [
       "<Figure size 432x288 with 1 Axes>"
      ]
     },
     "metadata": {},
     "output_type": "display_data"
    }
   ],
   "source": [
    "# arredondo todos os valores de duração de modo que sua variação diminua\n",
    "# e dê pra visualizar qual é a que possui maior frequência\n",
    "df[\"@duration\"] = df[\"@duration\"].apply(lambda x: round(x))\n",
    "df_duration_count = df.groupby(['@duration']).size()\n",
    "df_duration_count.plot.bar()"
   ]
  },
  {
   "cell_type": "code",
   "execution_count": 10,
   "metadata": {},
   "outputs": [
    {
     "data": {
      "text/plain": [
       "@duration\n",
       "6       12\n",
       "8        1\n",
       "10       1\n",
       "11       1\n",
       "12       4\n",
       "13       5\n",
       "15     187\n",
       "16       2\n",
       "24       1\n",
       "30     299\n",
       "32       3\n",
       "38       1\n",
       "41       1\n",
       "45       1\n",
       "60       3\n",
       "90       2\n",
       "117      1\n",
       "183      1\n",
       "674      1\n",
       "dtype: int64"
      ]
     },
     "execution_count": 10,
     "metadata": {},
     "output_type": "execute_result"
    }
   ],
   "source": [
    "df_duration_count"
   ]
  },
  {
   "cell_type": "code",
   "execution_count": 12,
   "metadata": {},
   "outputs": [
    {
     "data": {
      "text/html": [
       "<div>\n",
       "<style scoped>\n",
       "    .dataframe tbody tr th:only-of-type {\n",
       "        vertical-align: middle;\n",
       "    }\n",
       "\n",
       "    .dataframe tbody tr th {\n",
       "        vertical-align: top;\n",
       "    }\n",
       "\n",
       "    .dataframe thead th {\n",
       "        text-align: right;\n",
       "    }\n",
       "</style>\n",
       "<table border=\"1\" class=\"dataframe\">\n",
       "  <thead>\n",
       "    <tr style=\"text-align: right;\">\n",
       "      <th></th>\n",
       "      <th>@width</th>\n",
       "      <th>@height</th>\n",
       "      <th>@duration</th>\n",
       "      <th>@avg_frame_rate</th>\n",
       "      <th>filename</th>\n",
       "    </tr>\n",
       "  </thead>\n",
       "  <tbody>\n",
       "    <tr>\n",
       "      <th>216</th>\n",
       "      <td>1920</td>\n",
       "      <td>1080</td>\n",
       "      <td>674</td>\n",
       "      <td>30.0</td>\n",
       "      <td>../../../../newvolume/teasers/INSTAREEL_180610...</td>\n",
       "    </tr>\n",
       "  </tbody>\n",
       "</table>\n",
       "</div>"
      ],
      "text/plain": [
       "     @width  @height  @duration  @avg_frame_rate  \\\n",
       "216    1920     1080        674             30.0   \n",
       "\n",
       "                                              filename  \n",
       "216  ../../../../newvolume/teasers/INSTAREEL_180610...  "
      ]
     },
     "execution_count": 12,
     "metadata": {},
     "output_type": "execute_result"
    }
   ],
   "source": [
    "df[df[\"@duration\"] == 674]"
   ]
  },
  {
   "cell_type": "code",
   "execution_count": 11,
   "metadata": {},
   "outputs": [
    {
     "data": {
      "text/plain": [
       "13599"
      ]
     },
     "execution_count": 11,
     "metadata": {},
     "output_type": "execute_result"
    }
   ],
   "source": [
    "df[\"@duration\"].sum() # total em segundos de vídeos"
   ]
  },
  {
   "cell_type": "code",
   "execution_count": 14,
   "metadata": {},
   "outputs": [],
   "source": [
    "\"\"\"\n",
    "Multiplica a duração, comprimento, altura, taxa média de frames e 3(pois os vídeos são coloridos RGB) e divido por\n",
    "1000000000 para ter uma aproximação do total de gigabytes que cada vídeo ao ser decodificado vai ter\n",
    "\"\"\"\n",
    "df[\"GB\"] = (df[\"@duration\"] * df['@width'] * df['@height'] * df[\"@avg_frame_rate\"] * 3) / 1000000000"
   ]
  },
  {
   "cell_type": "code",
   "execution_count": 15,
   "metadata": {},
   "outputs": [
    {
     "data": {
      "text/plain": [
       "1983.6034488"
      ]
     },
     "execution_count": 15,
     "metadata": {},
     "output_type": "execute_result"
    }
   ],
   "source": [
    "df[\"GB\"].sum()"
   ]
  },
  {
   "cell_type": "code",
   "execution_count": 16,
   "metadata": {},
   "outputs": [
    {
     "data": {
      "text/plain": [
       "3.763953413282723"
      ]
     },
     "execution_count": 16,
     "metadata": {},
     "output_type": "execute_result"
    }
   ],
   "source": [
    "df[\"GB\"].mean()"
   ]
  },
  {
   "cell_type": "code",
   "execution_count": 17,
   "metadata": {},
   "outputs": [
    {
     "data": {
      "text/plain": [
       "125.784576"
      ]
     },
     "execution_count": 17,
     "metadata": {},
     "output_type": "execute_result"
    }
   ],
   "source": [
    "df[\"GB\"].max()"
   ]
  },
  {
   "cell_type": "code",
   "execution_count": 18,
   "metadata": {},
   "outputs": [
    {
     "data": {
      "text/plain": [
       "count    527.000000\n",
       "mean       3.763953\n",
       "std        5.870328\n",
       "min        0.000000\n",
       "25%        2.274480\n",
       "50%        2.799360\n",
       "75%        4.665600\n",
       "max      125.784576\n",
       "Name: GB, dtype: float64"
      ]
     },
     "execution_count": 18,
     "metadata": {},
     "output_type": "execute_result"
    }
   ],
   "source": [
    "df[\"GB\"].describe()"
   ]
  },
  {
   "cell_type": "code",
   "execution_count": 19,
   "metadata": {},
   "outputs": [
    {
     "data": {
      "text/plain": [
       "18.436325376"
      ]
     },
     "execution_count": 19,
     "metadata": {},
     "output_type": "execute_result"
    }
   ],
   "source": [
    "\"\"\"\n",
    "Mesmo cálculo feito anteriormente, mas com altura e comprimento fixos, assim como uma rede neural, \n",
    "por exemplo, esperaria.\n",
    "\"\"\"\n",
    "((df[\"@duration\"] * 128 * 128 * df[\"@avg_frame_rate\"] * 3) / 1000000000).sum()"
   ]
  },
  {
   "cell_type": "code",
   "execution_count": 22,
   "metadata": {},
   "outputs": [],
   "source": [
    "# agrupa e soma a tupla de altura e comprimento de cada vídeo para ter o número de ocorrencias de cada resolução\n",
    "df_res = df.groupby(['@width',  '@height']).size()"
   ]
  },
  {
   "cell_type": "code",
   "execution_count": 23,
   "metadata": {},
   "outputs": [
    {
     "data": {
      "text/plain": [
       "<matplotlib.axes._subplots.AxesSubplot at 0x7efded5f1a90>"
      ]
     },
     "execution_count": 23,
     "metadata": {},
     "output_type": "execute_result"
    },
    {
     "data": {
      "image/png": "[encoded data removed]",
      "text/plain": [
       "<Figure size 432x288 with 1 Axes>"
      ]
     },
     "metadata": {},
     "output_type": "display_data"
    }
   ],
   "source": [
    "df_res.plot.bar()"
   ]
  },
  {
   "cell_type": "code",
   "execution_count": 24,
   "metadata": {},
   "outputs": [
    {
     "data": {
      "text/plain": [
       "@width  @height\n",
       "58      38           3\n",
       "300     250          2\n",
       "384     960          2\n",
       "600     750          1\n",
       "640     360          5\n",
       "        1200         1\n",
       "720     720         12\n",
       "864     1080         5\n",
       "866     1080         2\n",
       "900     900          1\n",
       "960     540          4\n",
       "        960          2\n",
       "1080    1080       103\n",
       "        1350        35\n",
       "        1918         1\n",
       "        1920        86\n",
       "1200    628          2\n",
       "        1200         2\n",
       "1280    720          5\n",
       "1920    1080       250\n",
       "1976    1248         3\n",
       "dtype: int64"
      ]
     },
     "execution_count": 24,
     "metadata": {},
     "output_type": "execute_result"
    }
   ],
   "source": [
    "df_res"
   ]
  },
  {
   "cell_type": "code",
   "execution_count": 25,
   "metadata": {},
   "outputs": [
    {
     "data": {
      "text/plain": [
       "450.0    108\n",
       "660.0     76\n",
       "330.0     53\n",
       "720.0     23\n",
       "750.0     22\n",
       "375.0     12\n",
       "180.0     10\n",
       "360.0     10\n",
       "390.0      4\n",
       "800.0      3\n",
       "480.0      2\n",
       "144.0      2\n",
       "836.0      1\n",
       "300.0      1\n",
       "312.0      1\n",
       "200.0      1\n",
       "250.0      1\n",
       "Name: num_frames, dtype: int64"
      ]
     },
     "execution_count": 25,
     "metadata": {},
     "output_type": "execute_result"
    }
   ],
   "source": [
    "# multiplica a duracao por taxa média de frames para obter o número de frames por vídeo\n",
    "df['num_frames'] = df['@duration'] * df['@avg_frame_rate']"
   ]
  },
  {
   "cell_type": "code",
   "execution_count": 28,
   "metadata": {},
   "outputs": [
    {
     "data": {
      "image/png": "[encoded data removed]",
      "text/plain": [
       "<Figure size 432x288 with 1 Axes>"
      ]
     },
     "metadata": {},
     "output_type": "display_data"
    }
   ],
   "source": [
    "import matplotlib.pyplot as plt\n",
    "# scatter plot para observar distribuição do total de frames\n",
    "plt.scatter(df['num_frames'].index, df['num_frames'])\n",
    "plt.show()"
   ]
  },
  {
   "cell_type": "code",
   "execution_count": 30,
   "metadata": {},
   "outputs": [
    {
     "data": {
      "text/plain": [
       "<matplotlib.axes._subplots.AxesSubplot at 0x7efdec76f048>"
      ]
     },
     "execution_count": 30,
     "metadata": {},
     "output_type": "execute_result"
    },
    {
     "data": {
      "image/png": "[encoded data removed]",
      "text/plain": [
       "<Figure size 432x288 with 1 Axes>"
      ]
     },
     "metadata": {},
     "output_type": "display_data"
    }
   ],
   "source": [
    "# boxplot para observar discrepâncias\n",
    "df.boxplot(column='num_frames')"
   ]
  },
  {
   "cell_type": "code",
   "execution_count": 31,
   "metadata": {},
   "outputs": [],
   "source": [
    "# filtra discrepâncias muito grandes\n",
    "df['num_frames'] = df[(df['num_frames'] > 0) & (df['num_frames'] < 2500)]['num_frames']"
   ]
  },
  {
   "cell_type": "code",
   "execution_count": 32,
   "metadata": {},
   "outputs": [
    {
     "data": {
      "text/plain": [
       "<matplotlib.axes._subplots.AxesSubplot at 0x7efdec73a6d8>"
      ]
     },
     "execution_count": 32,
     "metadata": {},
     "output_type": "execute_result"
    },
    {
     "data": {
      "image/png": "[encoded data removed]",
      "text/plain": [
       "<Figure size 432x288 with 1 Axes>"
      ]
     },
     "metadata": {},
     "output_type": "display_data"
    }
   ],
   "source": [
    "df.boxplot(column='num_frames')"
   ]
  },
  {
   "cell_type": "code",
   "execution_count": 33,
   "metadata": {},
   "outputs": [
    {
     "data": {
      "text/plain": [
       "count     519.000000\n",
       "mean      656.007707\n",
       "std       251.823021\n",
       "min       144.000000\n",
       "25%       450.000000\n",
       "50%       660.000000\n",
       "75%       900.000000\n",
       "max      1800.000000\n",
       "Name: num_frames, dtype: float64"
      ]
     },
     "execution_count": 33,
     "metadata": {},
     "output_type": "execute_result"
    }
   ],
   "source": [
    "df.num_frames.describe()"
   ]
  },
  {
   "cell_type": "code",
   "execution_count": 34,
   "metadata": {},
   "outputs": [
    {
     "data": {
      "text/plain": [
       "0    900.0\n",
       "dtype: float64"
      ]
     },
     "execution_count": 34,
     "metadata": {},
     "output_type": "execute_result"
    }
   ],
   "source": [
    "df.num_frames.mode()"
   ]
  },
  {
   "cell_type": "code",
   "execution_count": null,
   "metadata": {},
   "outputs": [],
   "source": []
  }
 ],
 "metadata": {
  "kernelspec": {
   "display_name": "Python [default]",
   "language": "python",
   "name": "python3"
  },
  "language_info": {
   "codemirror_mode": {
    "name": "ipython",
    "version": 3
   },
   "file_extension": ".py",
   "mimetype": "text/x-python",
   "name": "python",
   "nbconvert_exporter": "python",
   "pygments_lexer": "ipython3",
   "version": "3.6.5"
  }
 },
 "nbformat": 4,
 "nbformat_minor": 2
}
